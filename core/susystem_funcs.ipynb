{
 "cells": [
  {
   "cell_type": "code",
   "execution_count": 5,
   "metadata": {},
   "outputs": [],
   "source": [
    "import time\n",
    "import firebase_admin\n",
    "from firebase_admin import credentials, db, storage\n",
    "from datetime import datetime\n",
    "import os\n",
    "import keyboard"
   ]
  },
  {
   "cell_type": "code",
   "execution_count": 3,
   "metadata": {},
   "outputs": [
    {
     "data": {
      "text/plain": [
       "<firebase_admin.App at 0x7fe488d43450>"
      ]
     },
     "execution_count": 3,
     "metadata": {},
     "output_type": "execute_result"
    }
   ],
   "source": [
    "cred = credentials.Certificate(\"keys/touri-65f07-firebase-adminsdk-wuv71-b245c875f8.json\")\n",
    "firebase_admin.initialize_app(cred, {\n",
    "    'databaseURL': 'https://touri-65f07-default-rtdb.firebaseio.com/',\n",
    "    'storageBucket' : 'touri-65f07.appspot.com' \n",
    "    })"
   ]
  },
  {
   "cell_type": "markdown",
   "metadata": {},
   "source": [
    "# MESSAGING"
   ]
  },
  {
   "cell_type": "code",
   "execution_count": 6,
   "metadata": {},
   "outputs": [],
   "source": [
    "def sendMsgToUser(msg):\n",
    "    try : \n",
    "        cred = credentials.Certificate(\"keys/touri-65f07-firebase-adminsdk-wuv71-b245c875f8.json\")\n",
    "        firebase_admin.initialize_app(cred, {\n",
    "            'databaseURL': 'https://touri-65f07-default-rtdb.firebaseio.com/',\n",
    "            'storageBucket' : 'touri-65f07.appspot.com' \n",
    "        })\n",
    "    except:\n",
    "        pass  \n",
    "    \n",
    "    db.reference(\"state\").update({\n",
    "        \"botMsg\" : msg\n",
    "    })\n"
   ]
  },
  {
   "cell_type": "code",
   "execution_count": 4,
   "metadata": {},
   "outputs": [],
   "source": [
    "def resttingState():\n",
    "    try: \n",
    "        cred = credentials.Certificate(\"keys/touri-65f07-firebase-adminsdk-wuv71-b245c875f8.json\")\n",
    "        firebase_admin.initialize_app(cred, {\n",
    "            'databaseURL': 'https://touri-65f07-default-rtdb.firebaseio.com/',\n",
    "            'storageBucket' : 'touri-65f07.appspot.com' \n",
    "        })\n",
    "    except:\n",
    "        pass  \n",
    "\n",
    "    db.reference(\"autoSkills/pickPlace/\").update({\n",
    "        \"imgRequested\" : False\n",
    "    })\n",
    "\n",
    "    db.reference(\"state\").update({\n",
    "        \"runningAutoCommand\" : False\n",
    "    })\n"
   ]
  },
  {
   "cell_type": "code",
   "execution_count": 10,
   "metadata": {},
   "outputs": [],
   "source": [
    "resttingState()"
   ]
  },
  {
   "cell_type": "markdown",
   "metadata": {},
   "source": [
    "# NAVIAGTION\n"
   ]
  },
  {
   "cell_type": "code",
   "execution_count": 19,
   "metadata": {},
   "outputs": [],
   "source": [
    "navStackLaunchCmd =  \"roslaunch stretch_navigation navigation.launch map_yaml:=${HELLO_FLEET_PATH}/maps/ai_F.yaml\"\n",
    "goToGymLocCmd =  \"rostopic pub /move_base_simple/goal geometry_msgs/PoseStamped '{header: {stamp: now, frame_id: 'map'}, pose: {position: {x: 37.84, y: 23.03, z: 0.0}, orientation: {z: -0.37, w: -0.92}}}'\"\n",
    "goToAIMakerSpaceCmd = \"rostopic pub /move_base_simple/goal geometry_msgs/PoseStamped '{header: {stamp: now, frame_id: 'map'}, pose: {position: {x: 17.9, y: 19.5,z: 0.0}, orientation: {z: -0.92, w: 0.39}}}'\"\n",
    "\n",
    "startPosAiMakerSpace = '''rostopic pub /initialpose geometry_msgs/PoseWithCovarianceStamped \"header:\n",
    "  seq: 0\n",
    "  stamp:\n",
    "    secs: 0\n",
    "    nsecs: 0\n",
    "  frame_id: ''\n",
    "pose:\n",
    "  pose:\n",
    "    position: {x: 37.84, y: 23.03, z: 0.0}\n",
    "    orientation: {x: 0.0, y: 0.0, z: -0.89, w: 0.45}\n",
    "  covariance: [0.25, 0.0, 0.0, 0.0, 0.0, 0.0, 0.0, 0.25, 0.0, 0.0, 0.0, 0.0, 0.0, 0.0, 0.0, 0.0, 0.0, 0.0, 0.0, 0.0, 0.0, 0.0, 0.0, 0.0, 0.0, 0.0, 0.0, 0.0, 0.0, 0.0, 0.0, 0.0, 0.0, 0.0, 0.0, 0.06853891945200942]'''\n",
    "\n",
    "\n",
    "proximityFile = \"python3 /home/hello-robot/trial/catkin_ws/src/stretch_ros/touri_ros/src/touri_perception/scripts/obstacle_alert.py\"\n",
    "posUpdateFile = \"python3 /home/hello-robot/trial/catkin_ws/src/stretch_ros/touri_ros/src/touri_perception/scripts/pos_update.py\"\n"
   ]
  },
  {
   "cell_type": "code",
   "execution_count": 27,
   "metadata": {},
   "outputs": [
    {
     "data": {
      "text/plain": [
       "'HELLO'"
      ]
     },
     "execution_count": 27,
     "metadata": {},
     "output_type": "execute_result"
    }
   ],
   "source": [
    "a = \"hello\"\n",
    "a = a.upper()\n",
    "a"
   ]
  },
  {
   "cell_type": "markdown",
   "metadata": {},
   "source": [
    "### UPDATE MAP COORDS"
   ]
  },
  {
   "cell_type": "code",
   "execution_count": 126,
   "metadata": {},
   "outputs": [],
   "source": [
    "def updateBotPosInMap(x,y):\n",
    "    '''\n",
    "    xScale = 16.2 / (700-160) \n",
    "    yScale = 18.7 / (1050 - 500)\n",
    "\n",
    "    print(f\"X: {xScale}     Y: {yScale}\")\n",
    "    '''\n",
    "\n",
    "    try : \n",
    "        cred = credentials.Certificate(\"keys/touri-65f07-firebase-adminsdk-wuv71-b245c875f8.json\")\n",
    "        firebase_admin.initialize_app(cred, {\n",
    "            'databaseURL': 'https://touri-65f07-default-rtdb.firebaseio.com/',\n",
    "            'storageBucket' : 'touri-65f07.appspot.com' \n",
    "        })\n",
    "    except:\n",
    "        pass  \n",
    "\n",
    "    scale = 0.035\n",
    "\n",
    "    x = x * scale\n",
    "    y = y * scale\n",
    "    x = x + 0.12\n",
    "    y =  0.915 - y\n",
    "\n",
    "    assert abs(x) <= 1, \"X must be between 0 and 1\"\n",
    "    assert abs(y) <= 1, \"Y must be between 0 and 1\"\n",
    "    db.reference(\"autoSkills/navigation/botPos\").update({\n",
    "        \"x\" : x,\n",
    "        \"y\": y\n",
    "    })"
   ]
  },
  {
   "cell_type": "code",
   "execution_count": 29,
   "metadata": {},
   "outputs": [
    {
     "name": "stdout",
     "output_type": "stream",
     "text": [
      "rosservice call /tap_service \"x_tap: 0 y_tap: 4\"\n"
     ]
    }
   ],
   "source": [
    "x,y = 0,4\n",
    "test = 'rosservice call /tap_service \"x_tap: ' + str(x) + ' y_tap: ' + str(y) + '\"'\n",
    "print(test)"
   ]
  },
  {
   "cell_type": "markdown",
   "metadata": {},
   "source": [
    "### PROXIMITY"
   ]
  },
  {
   "cell_type": "code",
   "execution_count": 8,
   "metadata": {},
   "outputs": [],
   "source": [
    "def updateProximity(top, back, left, right):\n",
    "\n",
    "    assert top in ('ok','close','too close'), \"Front proximity can only take values of ('ok','close','too close')\"\n",
    "    assert back in ('ok','close','too close'), \"Back proximity can only take values of ('ok','close','too close')\"\n",
    "    assert left in ('ok','close','too close'), \"Left proximity can only take values of ('ok','close','too close')\"\n",
    "    assert right in ('ok','close','too close'), \"Right proximity can only take values of ('ok','close','too close')\"\n",
    "\n",
    "\n",
    "    try : \n",
    "        cred = credentials.Certificate(\"keys/touri-65f07-firebase-adminsdk-wuv71-b245c875f8.json\")\n",
    "        firebase_admin.initialize_app(cred, {\n",
    "            'databaseURL': 'https://touri-65f07-default-rtdb.firebaseio.com/',\n",
    "            'storageBucket' : 'touri-65f07.appspot.com' \n",
    "        })\n",
    "    except:\n",
    "        pass   \n",
    "\n",
    "    msgEncode = {\n",
    "            'ok' : 0,\n",
    "            'close' : 1,\n",
    "            'too close' : 2,\n",
    "            }\n",
    "            \n",
    "    db.reference(\"state/navObjProximity\").update({\n",
    "        \"top\" : msgEncode[top],\n",
    "        \"back\": msgEncode[back],\n",
    "        \"left\": msgEncode[left],\n",
    "        \"right\": msgEncode[right],\n",
    "    })\n",
    "\n"
   ]
  },
  {
   "cell_type": "markdown",
   "metadata": {},
   "source": [
    "### SAVE POSITION"
   ]
  },
  {
   "cell_type": "code",
   "execution_count": 6,
   "metadata": {},
   "outputs": [],
   "source": [
    "def savePosition(x, y):\n",
    "    try : \n",
    "        cred = credentials.Certificate(\"keys/touri-65f07-firebase-adminsdk-wuv71-b245c875f8.json\")\n",
    "        firebase_admin.initialize_app(cred, {\n",
    "            'databaseURL': 'https://touri-65f07-default-rtdb.firebaseio.com/',\n",
    "            'storageBucket' : 'touri-65f07.appspot.com' \n",
    "        })\n",
    "    except:\n",
    "        pass    \n",
    "            \n",
    "    db.reference(\"state/location\").update({\n",
    "        'x' : x,\n",
    "        'y' : y\n",
    "    })\n"
   ]
  },
  {
   "cell_type": "markdown",
   "metadata": {},
   "source": [
    "### GET LAST SAVED VALUE"
   ]
  },
  {
   "cell_type": "code",
   "execution_count": null,
   "metadata": {},
   "outputs": [],
   "source": [
    "def getLastSavedPosition():\n",
    "    try : \n",
    "        cred = credentials.Certificate(\"keys/touri-65f07-firebase-adminsdk-wuv71-b245c875f8.json\")\n",
    "        firebase_admin.initialize_app(cred, {\n",
    "            'databaseURL': 'https://touri-65f07-default-rtdb.firebaseio.com/',\n",
    "            'storageBucket' : 'touri-65f07.appspot.com' \n",
    "        })\n",
    "    except:\n",
    "        pass  \n",
    "\n",
    "    x,y = db.reference(\"state/location\").get().values()\n",
    "    return x, y\n",
    "\n"
   ]
  },
  {
   "cell_type": "markdown",
   "metadata": {},
   "source": [
    "# PICK PLACE"
   ]
  },
  {
   "cell_type": "markdown",
   "metadata": {},
   "source": [
    "### UPLOAD IMG"
   ]
  },
  {
   "cell_type": "code",
   "execution_count": null,
   "metadata": {},
   "outputs": [],
   "source": [
    "def uploadImg(imgPath):\n",
    "    try : \n",
    "        cred = credentials.Certificate(\"keys/touri-65f07-firebase-adminsdk-wuv71-b245c875f8.json\")\n",
    "        firebase_admin.initialize_app(cred, {\n",
    "            'databaseURL': 'https://touri-65f07-default-rtdb.firebaseio.com/',\n",
    "            'storageBucket' : 'touri-65f07.appspot.com' \n",
    "        })\n",
    "    except:\n",
    "        pass  \n",
    "    bucket = storage.bucket()\n",
    "    blob = bucket.blob(imgPath)\n",
    "    blob.upload_from_filename(imgPath)\n",
    "    blob.make_public()\n",
    "    \n",
    "    db.reference(\"autoSkills/pickPlace\").update({\n",
    "        \"imgSrc\" : blob.public_url\n",
    "    })\n"
   ]
  },
  {
   "cell_type": "code",
   "execution_count": null,
   "metadata": {},
   "outputs": [],
   "source": [
    "uploadImg(\"pickPlaceImg.jpeg\")"
   ]
  },
  {
   "cell_type": "code",
   "execution_count": null,
   "metadata": {},
   "outputs": [],
   "source": []
  }
 ],
 "metadata": {
  "kernelspec": {
   "display_name": "Python 3.7.13 ('Touri')",
   "language": "python",
   "name": "python3"
  },
  "language_info": {
   "codemirror_mode": {
    "name": "ipython",
    "version": 3
   },
   "file_extension": ".py",
   "mimetype": "text/x-python",
   "name": "python",
   "nbconvert_exporter": "python",
   "pygments_lexer": "ipython3",
   "version": "3.7.13"
  },
  "orig_nbformat": 4,
  "vscode": {
   "interpreter": {
    "hash": "bc122b85bdab32c5111a80de3e40632fab5a3fb55a96b658a12b38a8a733d525"
   }
  }
 },
 "nbformat": 4,
 "nbformat_minor": 2
}
